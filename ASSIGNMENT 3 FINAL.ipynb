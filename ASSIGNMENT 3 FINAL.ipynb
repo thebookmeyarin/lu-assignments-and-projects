{
 "cells": [
  {
   "cell_type": "raw",
   "metadata": {},
   "source": [
    " NAME: KATAKAM SHRIYA\n",
    "EMAIL ID : MPSH21102204@GMAIL.COM"
   ]
  },
  {
   "cell_type": "markdown",
   "metadata": {},
   "source": [
    "# QUESTION 1 "
   ]
  },
  {
   "cell_type": "code",
   "execution_count": null,
   "metadata": {},
   "outputs": [],
   "source": [
    "import numpy as np\n",
    "arr=np.array(range(2,50,3)) \n",
    "print(arr)"
   ]
  },
  {
   "cell_type": "markdown",
   "metadata": {},
   "source": [
    "# QUESTION 2"
   ]
  },
  {
   "cell_type": "code",
   "execution_count": null,
   "metadata": {},
   "outputs": [],
   "source": [
    "import numpy as np\n",
    "list_one=[]\n",
    "for i in range(5):\n",
    "    x=int(input())\n",
    "    i=i+1\n",
    "    list_one.append(x)\n",
    "print(list_one)\n",
    "\n",
    "list_two=[]\n",
    "for j in range(5):\n",
    "    y=int(input())\n",
    "    j=j+1\n",
    "    list_two.append(y)\n",
    "print(list_two)\n",
    "\n",
    "array_one= np.array(list_one)\n",
    "array_two= np.array(list_two)\n",
    "print(array_one)\n",
    "print(array_two)\n",
    "\n",
    "array_concat = np.concatenate((array_one, array_two))\n",
    "print(array_concat) \n",
    "\n",
    "print(\"array sotred =\", np.sort(array_concat))\n",
    "\n",
    "\n"
   ]
  },
  {
   "cell_type": "markdown",
   "metadata": {},
   "source": [
    "# QUESTION 3"
   ]
  },
  {
   "cell_type": "code",
   "execution_count": null,
   "metadata": {},
   "outputs": [],
   "source": [
    "arr= np.array([[22,5,200], [21,2,197], [2,4,4], [4,5,4]])\n",
    "dimensions= arr.ndim\n",
    "print(\"dimensions=\",dimensions)\n",
    "size=arr.size\n",
    "print(\"size=\",size)\n"
   ]
  },
  {
   "cell_type": "markdown",
   "metadata": {},
   "source": [
    "# QUESTION 4"
   ]
  },
  {
   "cell_type": "code",
   "execution_count": null,
   "metadata": {},
   "outputs": [],
   "source": [
    "arr = np.arange(int(input()))\n",
    "print(\"1D array (shape) :\", arr.shape)\n",
    "\n",
    "two_d_array_row = arr[np.newaxis]\n",
    "print(\"2D array for row is :\", two_d_array_row.shape)\n",
    "\n",
    "two_d_array_col = arr[:, np.newaxis]\n",
    "print(\"2D array for column is :\", two_d_array_col.shape)"
   ]
  },
  {
   "cell_type": "markdown",
   "metadata": {},
   "source": [
    "# QUESTION 5"
   ]
  },
  {
   "cell_type": "code",
   "execution_count": null,
   "metadata": {},
   "outputs": [],
   "source": [
    "array_one = np.square([1, 4, 5, 8, 79, 6, 3, 5, 7, 5, 9, 6, 4, 5])  # square of numpy array\n",
    "array_two = np.square([4, 5, 8, 6, 9, 7, 4, 5, 6])  # square of numpy array\n",
    "\n",
    "print(\" horizontally stacked :\", np.hstack((array_one, array_two)))\n",
    "\n",
    "print(\"vertically stacked : \", np.hstack((array_one, array_two)))"
   ]
  },
  {
   "cell_type": "markdown",
   "metadata": {},
   "source": [
    "# QUESTION 6"
   ]
  },
  {
   "cell_type": "code",
   "execution_count": null,
   "metadata": {},
   "outputs": [],
   "source": [
    "arr = np.array([4, 7, 8, 9, 5, 6, 5, 4, 4])\n",
    "\n",
    "unique, counts = np.unique(arr, return_counts=True)\n",
    "arr = np.asarray((unique, counts)).T\n",
    "print(arr)"
   ]
  }
 ],
 "metadata": {
  "kernelspec": {
   "display_name": "Python 3",
   "language": "python",
   "name": "python3"
  },
  "language_info": {
   "codemirror_mode": {
    "name": "ipython",
    "version": 3
   },
   "file_extension": ".py",
   "mimetype": "text/x-python",
   "name": "python",
   "nbconvert_exporter": "python",
   "pygments_lexer": "ipython3",
   "version": "3.8.3"
  }
 },
 "nbformat": 4,
 "nbformat_minor": 4
}
