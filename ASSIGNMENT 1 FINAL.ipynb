{
 "cells": [
  {
   "cell_type": "raw",
   "metadata": {},
   "source": [
    "NAME: KATAKAM SHRIYA\n",
    "EMAIL ID : MPSH21102204@GMAIL.COM"
   ]
  },
  {
   "cell_type": "markdown",
   "metadata": {},
   "source": [
    "# QUESTION 1\n"
   ]
  },
  {
   "cell_type": "code",
   "execution_count": 23,
   "metadata": {},
   "outputs": [
    {
     "name": "stdout",
     "output_type": "stream",
     "text": [
      "Given the following jumbled word OBANWRI guess the correct English word \n",
      "\tA.RANIBOW\n",
      "\tB.RAINBOW\n",
      "\tC.BOWRANI\n",
      "\tD.ROBWANI\n"
     ]
    }
   ],
   "source": [
    "print(\"Given the following jumbled word OBANWRI guess the correct English word\",\n",
    "      \"\\n\\tA.RANIBOW\"\n",
    "      \"\\n\\tB.RAINBOW\"\n",
    "      \"\\n\\tC.BOWRANI\"\n",
    "      \"\\n\\tD.ROBWANI\")\n",
    "\n",
    "      \n",
    "\n",
    "      "
   ]
  },
  {
   "cell_type": "markdown",
   "metadata": {},
   "source": [
    "# Question 2"
   ]
  },
  {
   "cell_type": "code",
   "execution_count": 26,
   "metadata": {},
   "outputs": [
    {
     "name": "stdout",
     "output_type": "stream",
     "text": [
      "LETS UPGRADE\n"
     ]
    }
   ],
   "source": [
    "print(\"LETS UPGRADE\")"
   ]
  },
  {
   "cell_type": "markdown",
   "metadata": {},
   "source": [
    "# Question 3"
   ]
  },
  {
   "cell_type": "code",
   "execution_count": 25,
   "metadata": {},
   "outputs": [
    {
     "name": "stdout",
     "output_type": "stream",
     "text": [
      "20\n",
      "30\n",
      "profit\n"
     ]
    }
   ],
   "source": [
    "no1=int(input())\n",
    "no2=int(input())\n",
    "if no1<no2:\n",
    "    print(\"profit\")\n",
    "elif no1>no2:\n",
    "    print(\"loss\")\n",
    "else:\n",
    "    print(\"Neither\")\n"
   ]
  },
  {
   "cell_type": "markdown",
   "metadata": {},
   "source": [
    "# QUESTION 4"
   ]
  },
  {
   "cell_type": "code",
   "execution_count": 24,
   "metadata": {},
   "outputs": [
    {
     "name": "stdout",
     "output_type": "stream",
     "text": [
      "2\n",
      "160\n"
     ]
    }
   ],
   "source": [
    "no1=int(input())\n",
    "x=no1*80\n",
    "print(x)"
   ]
  }
 ],
 "metadata": {
  "kernelspec": {
   "display_name": "Python 3",
   "language": "python",
   "name": "python3"
  },
  "language_info": {
   "codemirror_mode": {
    "name": "ipython",
    "version": 3
   },
   "file_extension": ".py",
   "mimetype": "text/x-python",
   "name": "python",
   "nbconvert_exporter": "python",
   "pygments_lexer": "ipython3",
   "version": "3.8.3"
  }
 },
 "nbformat": 4,
 "nbformat_minor": 4
}
