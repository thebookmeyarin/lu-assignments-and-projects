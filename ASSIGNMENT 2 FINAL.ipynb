{
 "cells": [
  {
   "cell_type": "raw",
   "metadata": {},
   "source": [
    "NAME: KATAKAM SHRIYA\n",
    "EMAIL ID : MPSH21102204@GMAIL.COM"
   ]
  },
  {
   "cell_type": "markdown",
   "metadata": {},
   "source": [
    "  # QUESTION 1\n",
    " "
   ]
  },
  {
   "cell_type": "code",
   "execution_count": null,
   "metadata": {},
   "outputs": [],
   "source": [
    "l=[]\n",
    "for i in range(10):\n",
    "    x=int(input())\n",
    "    r=x%2\n",
    "    if (r==0):\n",
    "        l.append(x)\n",
    "print(l)\n",
    "\n",
    "\n",
    "l=[]\n",
    "for i in range(10):\n",
    "    x=int(input())\n",
    "    r=x%2\n",
    "    if (r==0):\n",
    "        l.append(x)\n",
    "    i=i+1\n",
    "print(l)"
   ]
  },
  {
   "cell_type": "markdown",
   "metadata": {},
   "source": [
    "# QUESTION 2"
   ]
  },
  {
   "cell_type": "raw",
   "metadata": {},
   "source": [
    "list comprehensions are used for creating new lists from other iterables,\n",
    "as list comprehensions return lists, theey consist of brackets containing the expression, which is executed for each element\n",
    "along with the for loop to iterate over each elemement.\n",
    "\n",
    "syntax\n",
    "\n",
    "new_list=(value for_loop condition)"
   ]
  },
  {
   "cell_type": "markdown",
   "metadata": {},
   "source": [
    "# Example\n"
   ]
  },
  {
   "cell_type": "code",
   "execution_count": null,
   "metadata": {},
   "outputs": [],
   "source": [
    "\n",
    "list=[1,2,3,4,5,6,7,8,9,10]\n",
    "\n",
    "even_list=[l for i is list if x%2=0]\n",
    "\n",
    "print(even_list)"
   ]
  },
  {
   "cell_type": "markdown",
   "metadata": {},
   "source": [
    "# QUESTION 3\n"
   ]
  },
  {
   "cell_type": "code",
   "execution_count": null,
   "metadata": {},
   "outputs": [],
   "source": [
    "d={}\n",
    "n=int(input())\n",
    "for i in range(n):\n",
    "    d[i]=i*i\n",
    "    \n",
    "print(d)\n",
    "\n"
   ]
  },
  {
   "cell_type": "markdown",
   "metadata": {},
   "source": [
    "# QUESTION 4"
   ]
  },
  {
   "cell_type": "code",
   "execution_count": null,
   "metadata": {},
   "outputs": [],
   "source": [
    "x=int(input())\n",
    "a=0\n",
    "b=0\n",
    "int(a)\n",
    "int(b)\n",
    "i=(a,b)\n",
    "for k in range(x):\n",
    "    y=input() \n",
    "    z=int(input())\n",
    "    \n",
    "    if y== \"UP\" :\n",
    "        b = b +z \n",
    "    elif y==\"DOWN\":\n",
    "        b=b-z\n",
    "    elif y==\"RIGHT\":\n",
    "        a=a+z\n",
    "    elif y==\"LEFT\":\n",
    "        a=a-z\n",
    "\n",
    "print(int((a*a + b*b)**0.5))"
   ]
  }
 ],
 "metadata": {
  "kernelspec": {
   "display_name": "Python 3",
   "language": "python",
   "name": "python3"
  },
  "language_info": {
   "codemirror_mode": {
    "name": "ipython",
    "version": 3
   },
   "file_extension": ".py",
   "mimetype": "text/x-python",
   "name": "python",
   "nbconvert_exporter": "python",
   "pygments_lexer": "ipython3",
   "version": "3.8.3"
  }
 },
 "nbformat": 4,
 "nbformat_minor": 4
}
